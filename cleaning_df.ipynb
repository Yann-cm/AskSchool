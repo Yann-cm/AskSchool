{
 "cells": [
  {
   "cell_type": "code",
   "execution_count": 78,
   "id": "ee862ffb",
   "metadata": {},
   "outputs": [],
   "source": [
    "import pandas as pd\n",
    "import warnings\n",
    "warnings.filterwarnings(\"ignore\")\n",
    "\n",
    "#Importe les df des 4 années\n",
    "df1 = pd.read_csv('data_2021.csv', sep=';')\n",
    "df2 = pd.read_csv('data_2022.csv', sep=';')\n",
    "df3 = pd.read_csv('data_2023.csv', sep=';')\n",
    "df4 = pd.read_csv('data_2024.csv', sep=';')\n",
    "df = pd.concat([df1, df2,df4], ignore_index=True)\n",
    "\n",
    "# #Changer le nom des colones pour les additioner à la df3 car leur nom sont différents\n",
    "df = df.rename(columns={\"cod_aff_form\" :\"COD_AFF_FORM\", \n",
    "    \"Taux d’accès\" : \"Taux d’accès des candidats ayant postulé à la formation (ratio entre le dernier appelé et le nombre vœux PP)\",\n",
    "    \"Part des terminales générales qui étaient en position de recevoir une proposition en phase principale\": \"Dont taux d’accès des candidats ayant un bac général ayant postulé à la formation\",\n",
    "    \"Part des terminales technologiques qui étaient en position de recevoir une proposition en phase principale\" :\"Dont taux d’accès des candidats ayant un bac technologique ayant postulé à la formation\",\n",
    "    \"Part des terminales professionnelles qui étaient en position de recevoir une proposition en phase principale\" : \"Dont taux d’accès des candidats ayant un bac professionnel ayant postulé à la formation\"})\n",
    "df = pd.concat([df, df3], ignore_index=True)"
   ]
  },
  {
   "cell_type": "code",
   "execution_count": 108,
   "id": "69715140",
   "metadata": {},
   "outputs": [
    {
     "data": {
      "text/html": [
       "<div>\n",
       "<style scoped>\n",
       "    .dataframe tbody tr th:only-of-type {\n",
       "        vertical-align: middle;\n",
       "    }\n",
       "\n",
       "    .dataframe tbody tr th {\n",
       "        vertical-align: top;\n",
       "    }\n",
       "\n",
       "    .dataframe thead th {\n",
       "        text-align: right;\n",
       "    }\n",
       "</style>\n",
       "<table border=\"1\" class=\"dataframe\">\n",
       "  <thead>\n",
       "    <tr style=\"text-align: right;\">\n",
       "      <th></th>\n",
       "      <th>Effectif total des candidats pour une formation</th>\n",
       "      <th>Dont effectif des candidates pour une formation</th>\n",
       "      <th>Effectif total des candidats en phase principale</th>\n",
       "      <th>Dont effectif des candidats ayant postulé en internat</th>\n",
       "      <th>Effectif des candidats néo bacheliers généraux en phase principale</th>\n",
       "      <th>Dont effectif des candidats boursiers néo bacheliers généraux en phase principale</th>\n",
       "      <th>Effectif des candidats néo bacheliers technologiques en phase principale</th>\n",
       "      <th>Dont effectif des candidats boursiers néo bacheliers technologiques en phase principale</th>\n",
       "      <th>Effectif des candidats néo bacheliers professionnels en phase principale</th>\n",
       "      <th>Dont effectif des candidats boursiers néo bacheliers professionnels en phase principale</th>\n",
       "    </tr>\n",
       "  </thead>\n",
       "  <tbody>\n",
       "    <tr>\n",
       "      <th>0</th>\n",
       "      <td>172</td>\n",
       "      <td>9</td>\n",
       "      <td>165</td>\n",
       "      <td>NaN</td>\n",
       "      <td>9</td>\n",
       "      <td>0</td>\n",
       "      <td>48</td>\n",
       "      <td>15</td>\n",
       "      <td>55</td>\n",
       "      <td>17</td>\n",
       "    </tr>\n",
       "  </tbody>\n",
       "</table>\n",
       "</div>"
      ],
      "text/plain": [
       "   Effectif total des candidats pour une formation  \\\n",
       "0                                              172   \n",
       "\n",
       "   Dont effectif des candidates pour une formation  \\\n",
       "0                                                9   \n",
       "\n",
       "   Effectif total des candidats en phase principale  \\\n",
       "0                                               165   \n",
       "\n",
       "   Dont effectif des candidats ayant postulé en internat  \\\n",
       "0                                                NaN       \n",
       "\n",
       "   Effectif des candidats néo bacheliers généraux en phase principale  \\\n",
       "0                                                  9                    \n",
       "\n",
       "   Dont effectif des candidats boursiers néo bacheliers généraux en phase principale  \\\n",
       "0                                                  0                                   \n",
       "\n",
       "   Effectif des candidats néo bacheliers technologiques en phase principale  \\\n",
       "0                                                 48                          \n",
       "\n",
       "   Dont effectif des candidats boursiers néo bacheliers technologiques en phase principale  \\\n",
       "0                                                 15                                         \n",
       "\n",
       "   Effectif des candidats néo bacheliers professionnels en phase principale  \\\n",
       "0                                                 55                          \n",
       "\n",
       "   Dont effectif des candidats boursiers néo bacheliers professionnels en phase principale  \n",
       "0                                                 17                                        "
      ]
     },
     "execution_count": 108,
     "metadata": {},
     "output_type": "execute_result"
    }
   ],
   "source": [
    "\n",
    "df.iloc[:,18:28].head(1)"
   ]
  },
  {
   "cell_type": "code",
   "execution_count": null,
   "id": "a5a431cb",
   "metadata": {},
   "outputs": [],
   "source": []
  }
 ],
 "metadata": {
  "kernelspec": {
   "display_name": "Python 3",
   "language": "python",
   "name": "python3"
  },
  "language_info": {
   "codemirror_mode": {
    "name": "ipython",
    "version": 3
   },
   "file_extension": ".py",
   "mimetype": "text/x-python",
   "name": "python",
   "nbconvert_exporter": "python",
   "pygments_lexer": "ipython3",
   "version": "3.10.11"
  }
 },
 "nbformat": 4,
 "nbformat_minor": 5
}
